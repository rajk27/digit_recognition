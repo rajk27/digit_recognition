{
 "cells": [
  {
   "cell_type": "markdown",
   "metadata": {},
   "source": [
    "### Load Packages"
   ]
  },
  {
   "cell_type": "code",
   "execution_count": 1,
   "metadata": {},
   "outputs": [],
   "source": [
    "import pandas as pd\n",
    "import numpy as np\n",
    "import matplotlib.pyplot as plt\n",
    "from sklearn.datasets import fetch_openml\n",
    "from sklearn.linear_model import LogisticRegression\n",
    "from sklearn.metrics import accuracy_score,confusion_matrix"
   ]
  },
  {
   "cell_type": "code",
   "execution_count": 2,
   "metadata": {},
   "outputs": [],
   "source": [
    "mnist = fetch_openml('mnist_784')"
   ]
  },
  {
   "cell_type": "code",
   "execution_count": 3,
   "metadata": {},
   "outputs": [],
   "source": [
    "X = mnist.data\n",
    "Y = mnist.target"
   ]
  },
  {
   "cell_type": "markdown",
   "metadata": {},
   "source": [
    "### Analyze Data"
   ]
  },
  {
   "cell_type": "code",
   "execution_count": 5,
   "metadata": {},
   "outputs": [],
   "source": [
    "#pd.Series(Y).value_counts()"
   ]
  },
  {
   "cell_type": "code",
   "execution_count": 4,
   "metadata": {},
   "outputs": [
    {
     "name": "stdout",
     "output_type": "stream",
     "text": [
      "(70000, 784)\n",
      "(70000,)\n"
     ]
    }
   ],
   "source": [
    "print(X.shape)\n",
    "print(Y.shape)"
   ]
  },
  {
   "cell_type": "code",
   "execution_count": 5,
   "metadata": {},
   "outputs": [
    {
     "data": {
      "text/plain": [
       "array(['0', '1', '2', '3', '4', '5', '6', '7', '8', '9'], dtype=object)"
      ]
     },
     "execution_count": 5,
     "metadata": {},
     "output_type": "execute_result"
    }
   ],
   "source": [
    "np.unique(Y)"
   ]
  },
  {
   "cell_type": "markdown",
   "metadata": {},
   "source": [
    "### Split Data"
   ]
  },
  {
   "cell_type": "code",
   "execution_count": 6,
   "metadata": {},
   "outputs": [],
   "source": [
    "from sklearn.model_selection import train_test_split"
   ]
  },
  {
   "cell_type": "code",
   "execution_count": 7,
   "metadata": {},
   "outputs": [],
   "source": [
    "xtrain,xtest,ytrain,ytest = train_test_split(X,Y,test_size=.2,random_state=10)"
   ]
  },
  {
   "cell_type": "code",
   "execution_count": 8,
   "metadata": {},
   "outputs": [
    {
     "name": "stdout",
     "output_type": "stream",
     "text": [
      "(56000, 784) (14000, 784)\n"
     ]
    }
   ],
   "source": [
    "print(xtrain.shape,xtest.shape)"
   ]
  },
  {
   "cell_type": "code",
   "execution_count": 9,
   "metadata": {},
   "outputs": [
    {
     "name": "stdout",
     "output_type": "stream",
     "text": [
      "(56000,) (14000,)\n"
     ]
    }
   ],
   "source": [
    "print(ytrain.shape,ytest.shape)"
   ]
  },
  {
   "cell_type": "markdown",
   "metadata": {},
   "source": [
    "### Feature Scaling"
   ]
  },
  {
   "cell_type": "code",
   "execution_count": 10,
   "metadata": {},
   "outputs": [
    {
     "name": "stdout",
     "output_type": "stream",
     "text": [
      "0.0 255.0\n",
      "0.0 255.0\n"
     ]
    }
   ],
   "source": [
    "print(xtrain.min(),xtrain.max())\n",
    "print(xtest.min(),xtest.max())"
   ]
  },
  {
   "cell_type": "code",
   "execution_count": 11,
   "metadata": {},
   "outputs": [],
   "source": [
    "xtrain_scaled = xtrain/255.0\n",
    "xtest_scaled = xtest/255.0"
   ]
  },
  {
   "cell_type": "code",
   "execution_count": 12,
   "metadata": {},
   "outputs": [
    {
     "name": "stdout",
     "output_type": "stream",
     "text": [
      "1.0 0.0\n"
     ]
    }
   ],
   "source": [
    "print(xtrain_scaled.max(),xtrain_scaled.min())"
   ]
  },
  {
   "cell_type": "code",
   "execution_count": 13,
   "metadata": {},
   "outputs": [],
   "source": [
    "from sklearn.decomposition import PCA"
   ]
  },
  {
   "cell_type": "code",
   "execution_count": 14,
   "metadata": {},
   "outputs": [
    {
     "data": {
      "text/plain": [
       "(56000, 784)"
      ]
     },
     "execution_count": 14,
     "metadata": {},
     "output_type": "execute_result"
    }
   ],
   "source": [
    "xtrain_scaled.shape"
   ]
  },
  {
   "cell_type": "code",
   "execution_count": 15,
   "metadata": {},
   "outputs": [],
   "source": [
    "pca = PCA(.98)"
   ]
  },
  {
   "cell_type": "code",
   "execution_count": 17,
   "metadata": {},
   "outputs": [
    {
     "data": {
      "text/plain": [
       "(56000, 260)"
      ]
     },
     "execution_count": 17,
     "metadata": {},
     "output_type": "execute_result"
    }
   ],
   "source": [
    "xtrain_selected = pca.fit_transform(xtrain_scaled)\n",
    "xtrain_selected.shape"
   ]
  },
  {
   "cell_type": "code",
   "execution_count": 18,
   "metadata": {},
   "outputs": [
    {
     "data": {
      "text/plain": [
       "(14000, 260)"
      ]
     },
     "execution_count": 18,
     "metadata": {},
     "output_type": "execute_result"
    }
   ],
   "source": [
    "xtest_selected = pca.transform(xtest_scaled)\n",
    "xtest_selected.shape"
   ]
  },
  {
   "cell_type": "markdown",
   "metadata": {},
   "source": [
    "### Train Model"
   ]
  },
  {
   "cell_type": "code",
   "execution_count": 19,
   "metadata": {},
   "outputs": [
    {
     "name": "stderr",
     "output_type": "stream",
     "text": [
      "C:\\Users\\hp\\anaconda3\\lib\\site-packages\\sklearn\\linear_model\\_logistic.py:940: ConvergenceWarning: lbfgs failed to converge (status=1):\n",
      "STOP: TOTAL NO. of ITERATIONS REACHED LIMIT.\n",
      "\n",
      "Increase the number of iterations (max_iter) or scale the data as shown in:\n",
      "    https://scikit-learn.org/stable/modules/preprocessing.html\n",
      "Please also refer to the documentation for alternative solver options:\n",
      "    https://scikit-learn.org/stable/modules/linear_model.html#logistic-regression\n",
      "  extra_warning_msg=_LOGISTIC_SOLVER_CONVERGENCE_MSG)\n"
     ]
    },
    {
     "data": {
      "text/plain": [
       "LogisticRegression(C=1.0, class_weight=None, dual=False, fit_intercept=True,\n",
       "                   intercept_scaling=1, l1_ratio=None, max_iter=100,\n",
       "                   multi_class='auto', n_jobs=None, penalty='l2',\n",
       "                   random_state=None, solver='lbfgs', tol=0.0001, verbose=0,\n",
       "                   warm_start=False)"
      ]
     },
     "execution_count": 19,
     "metadata": {},
     "output_type": "execute_result"
    }
   ],
   "source": [
    "lg = LogisticRegression()\n",
    "lg.fit(xtrain_selected,ytrain)"
   ]
  },
  {
   "cell_type": "code",
   "execution_count": 20,
   "metadata": {},
   "outputs": [
    {
     "name": "stdout",
     "output_type": "stream",
     "text": [
      "Training Score:  0.933625\n",
      "Testing Score:  0.9202857142857143\n"
     ]
    }
   ],
   "source": [
    "print(\"Training Score: \",lg.score(xtrain_selected,ytrain))\n",
    "print(\"Testing Score: \",lg.score(xtest_selected,ytest))"
   ]
  },
  {
   "cell_type": "markdown",
   "metadata": {},
   "source": [
    "### Prediction"
   ]
  },
  {
   "cell_type": "code",
   "execution_count": 21,
   "metadata": {},
   "outputs": [],
   "source": [
    "pred = lg.predict(xtest_selected)"
   ]
  },
  {
   "cell_type": "code",
   "execution_count": 22,
   "metadata": {
    "scrolled": false
   },
   "outputs": [
    {
     "name": "stdout",
     "output_type": "stream",
     "text": [
      "1\n"
     ]
    },
    {
     "data": {
      "image/png": "[encoded data removed]",
      "text/plain": [
       "<Figure size 432x288 with 1 Axes>"
      ]
     },
     "metadata": {
      "needs_background": "light"
     },
     "output_type": "display_data"
    }
   ],
   "source": [
    "plt.imshow(xtest[100].reshape(28,28),cmap=\"gray\")\n",
    "print(pred[100])"
   ]
  },
  {
   "cell_type": "code",
   "execution_count": 23,
   "metadata": {},
   "outputs": [
    {
     "data": {
      "text/plain": [
       "array([[1371,    0,    6,    3,    2,   14,   14,    2,    5,    4],\n",
       "       [   0, 1476,    7,    3,    1,   12,    1,    2,   10,    3],\n",
       "       [   7,   18, 1284,   27,   12,   11,   23,   20,   29,    7],\n",
       "       [   4,    3,   31, 1286,    1,   51,    6,   18,   25,   11],\n",
       "       [   4,    5,   11,    1, 1285,    3,   13,    5,   13,   51],\n",
       "       [  16,    5,    5,   38,    7, 1094,   35,    6,   35,    7],\n",
       "       [   5,    3,    9,    0,   12,   25, 1240,    0,    7,    2],\n",
       "       [   3,    4,   21,   10,   12,    3,    2, 1362,    6,   50],\n",
       "       [  17,   30,   20,   35,    4,   33,   13,    1, 1202,   17],\n",
       "       [   7,    5,    6,   15,   29,    8,    0,   39,   10, 1284]],\n",
       "      dtype=int64)"
      ]
     },
     "execution_count": 23,
     "metadata": {},
     "output_type": "execute_result"
    }
   ],
   "source": [
    "confusion_matrix(ytest,pred)"
   ]
  },
  {
   "cell_type": "code",
   "execution_count": 24,
   "metadata": {},
   "outputs": [
    {
     "name": "stdout",
     "output_type": "stream",
     "text": [
      "00.png imported successfully!\n",
      "a.png imported successfully!\n",
      "ab.png imported successfully!\n",
      "t0.png imported successfully!\n",
      "t01.png imported successfully!\n",
      "t1.png imported successfully!\n",
      "t2.png imported successfully!\n",
      "t21.png imported successfully!\n",
      "t223.png imported successfully!\n",
      "t23.png imported successfully!\n",
      "t3.png imported successfully!\n",
      "test.png imported successfully!\n"
     ]
    }
   ],
   "source": [
    "import os\n",
    "import cv2\n",
    "data = []\n",
    "for file_name in os.listdir('test/'):\n",
    "    img = cv2.imread('test/'+file_name, 2)\n",
    "    data.append(cv2.resize(img,(28,28)))\n",
    "    print(file_name,'imported successfully!')"
   ]
  },
  {
   "cell_type": "code",
   "execution_count": 25,
   "metadata": {},
   "outputs": [],
   "source": [
    "dataset = np.array(data)"
   ]
  },
  {
   "cell_type": "code",
   "execution_count": 26,
   "metadata": {},
   "outputs": [
    {
     "data": {
      "text/plain": [
       "(12, 28, 28)"
      ]
     },
     "execution_count": 26,
     "metadata": {},
     "output_type": "execute_result"
    }
   ],
   "source": [
    "dataset.shape"
   ]
  },
  {
   "cell_type": "code",
   "execution_count": 27,
   "metadata": {},
   "outputs": [
    {
     "name": "stdout",
     "output_type": "stream",
     "text": [
      "(12, 784)\n"
     ]
    }
   ],
   "source": [
    "final_ds = dataset.reshape(len(dataset), -1)\n",
    "print(final_ds.shape)"
   ]
  },
  {
   "cell_type": "code",
   "execution_count": 28,
   "metadata": {},
   "outputs": [],
   "source": [
    "x_preprocessed = pca.transform(final_ds/255)"
   ]
  },
  {
   "cell_type": "code",
   "execution_count": 29,
   "metadata": {},
   "outputs": [
    {
     "data": {
      "text/plain": [
       "(12, 260)"
      ]
     },
     "execution_count": 29,
     "metadata": {},
     "output_type": "execute_result"
    }
   ],
   "source": [
    "x_preprocessed.shape"
   ]
  },
  {
   "cell_type": "code",
   "execution_count": 30,
   "metadata": {},
   "outputs": [
    {
     "data": {
      "image/png": "[encoded data removed]",
      "text/plain": [
       "<Figure size 432x288 with 12 Axes>"
      ]
     },
     "metadata": {
      "needs_background": "light"
     },
     "output_type": "display_data"
    }
   ],
   "source": [
    "predictions = lg.predict(x_preprocessed)\n",
    "for i in range(12):\n",
    "    plt.subplot(3,4,i+1)\n",
    "    plt.imshow(data[i], cmap='gray')\n",
    "    plt.title(predictions[i])\n",
    "    plt.axis('off')"
   ]
  },
  {
   "cell_type": "code",
   "execution_count": 31,
   "metadata": {},
   "outputs": [],
   "source": [
    "import pickle"
   ]
  },
  {
   "cell_type": "code",
   "execution_count": 32,
   "metadata": {},
   "outputs": [
    {
     "name": "stdout",
     "output_type": "stream",
     "text": [
      "model exported successfully!\n"
     ]
    }
   ],
   "source": [
    "filename = \"model.pkl\"\n",
    "file = open(filename,\"wb\")\n",
    "pickle.dump(lg, file)\n",
    "file.close()\n",
    "print(\"model exported successfully!\")"
   ]
  },
  {
   "cell_type": "code",
   "execution_count": 33,
   "metadata": {},
   "outputs": [],
   "source": [
    "fl = open('pca.pkl','wb')\n",
    "pickle.dump(pca,fl)\n",
    "fl.close()"
   ]
  },
  {
   "cell_type": "code",
   "execution_count": 44,
   "metadata": {},
   "outputs": [],
   "source": [
    "import tkinter as tk\n",
    "from tkinter import *\n",
    "import pickle\n",
    "import cv2\n",
    "from PIL import ImageTk,Image\n",
    "from tkinter import filedialog\n",
    "import shutil\n",
    "import wikipedia\n",
    "\n",
    "root = tk.Tk()\n",
    "root.title(\"Hand Written Digit Recognition\")\n",
    "rw = root.winfo_screenwidth()\n",
    "rh = root.winfo_screenheight()\n",
    "root.geometry(\"%dx%d+0+0\"%(rw,rh))\n",
    "\n",
    "top_frame=Frame(root,height=100,bg=\"gray20\",width=rw,bd=5,relief=\"groove\")\n",
    "top_frame.pack(side=\"top\",fill=\"both\")\n",
    "lb = Label(top_frame,text=\"Handwritten Digit Recognition\",font=(\"times new roman\",36,\"bold\"),fg=\"white\",bg=\"gray20\")\n",
    "lb.pack(fill=\"both\")\n",
    "left_frame=Frame(root,height=rh,bg=\"gray87\",width=(rw/2),bd=5)\n",
    "left_frame.pack(fill=\"both\",side='left')\n",
    "right_frame=Frame(root,height=rh,bg=\"gray80\",width=(rw/2),bd=5)\n",
    "right_frame.pack(fill=\"both\",side='right')\n",
    "x = \"\"\n",
    "def browse():\n",
    "    global x\n",
    "    x = filedialog.askopenfilename()\n",
    "    img = Image.open(x)\n",
    "    img = img.resize((250,250))\n",
    "    im = ImageTk.PhotoImage(img)\n",
    "    lb = Label(left_frame,image=im)\n",
    "    lb.image = im\n",
    "    lb.place(x=250,y=250)\n",
    "\n",
    "\n",
    "btn = Button(left_frame,text=\"Browse\",width=12,font=(\"times new roman\",20),fg=\"white\",bg = \"gray10\",activebackground=\"gray40\",command=browse)\n",
    "btn.place(x=280,y=50)\n",
    "\n",
    "def predict():\n",
    "    file = x\n",
    "    f = open(\"model.pkl\",'rb')\n",
    "    model = pickle.load(f)\n",
    "    pca = pickle.load(open('pca.pkl','rb'))\n",
    "    im=cv2.imread(file,2)\n",
    "    tst = pca.transform(cv2.resize(im, (28,28)).reshape(1,-1)/255)\n",
    "    prediction = model.predict(tst)[0]\n",
    "    lb = Label(right_frame,text=\"Prediction:\",font=(\"times new roman\",24,\"bold\"),bg=\"gray80\",fg=\"black\")\n",
    "    lb.place(x=250,y=150)\n",
    "    lb = Label(right_frame,text = model.predict(tst)[0],font=(\"times new roman\",24,\"bold\"),bg=\"gray80\",fg=\"black\")\n",
    "    lb.place(x=470,y=150)\n",
    "    details = wikipedia.summary(model.predict(tst)[0])    \n",
    "    lb2 = tk.Text(right_frame,font=(\"times new roman\",14),fg=\"black\",bg=\"gray80\")\n",
    "    lb2.place(x=10,y=270)\n",
    "    try:\n",
    "        page = wikipedia.page(prediction)\n",
    "        lb2.insert(tk.END, page.summary)\n",
    "        lb2.configure(state='disabled')\n",
    "    except:\n",
    "        pass\n",
    "\n",
    "btn = Button(right_frame,text=\"Predict\",width=12,font=(\"times new roman\",20),fg=\"white\",bg = \"gray10\",activebackground=\"gray40\",command=predict)\n",
    "btn.place(x=280,y=50)\n",
    "\n",
    "root.mainloop()"
   ]
  }
 ],
 "metadata": {
  "kernelspec": {
   "display_name": "Python 3",
   "language": "python",
   "name": "python3"
  },
  "language_info": {
   "codemirror_mode": {
    "name": "ipython",
    "version": 3
   },
   "file_extension": ".py",
   "mimetype": "text/x-python",
   "name": "python",
   "nbconvert_exporter": "python",
   "pygments_lexer": "ipython3",
   "version": "3.7.6"
  }
 },
 "nbformat": 4,
 "nbformat_minor": 4
}
